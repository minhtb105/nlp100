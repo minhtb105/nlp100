{
  "metadata": {
    "kernelspec": {
      "language": "python",
      "display_name": "Python 3",
      "name": "python3"
    },
    "language_info": {
      "name": "python",
      "version": "3.10.13",
      "mimetype": "text/x-python",
      "codemirror_mode": {
        "name": "ipython",
        "version": 3
      },
      "pygments_lexer": "ipython3",
      "nbconvert_exporter": "python",
      "file_extension": ".py"
    },
    "kaggle": {
      "accelerator": "none",
      "dataSources": [],
      "dockerImageVersionId": 30664,
      "isInternetEnabled": false,
      "language": "python",
      "sourceType": "notebook",
      "isGpuEnabled": false
    },
    "colab": {
      "provenance": []
    }
  },
  "nbformat_minor": 0,
  "nbformat": 4,
  "cells": [
    {
      "cell_type": "code",
      "source": [
        "import numpy as np\n",
        "import pandas as pd"
      ],
      "metadata": {
        "_uuid": "8f2839f25d086af736a60e9eeb907d3b93b6e0e5",
        "_cell_guid": "b1076dfc-b9ad-4769-8c92-a6c4dae69d19",
        "execution": {
          "iopub.status.busy": "2024-03-08T14:10:06.492046Z",
          "iopub.execute_input": "2024-03-08T14:10:06.492435Z",
          "iopub.status.idle": "2024-03-08T14:10:06.501401Z",
          "shell.execute_reply.started": "2024-03-08T14:10:06.492396Z",
          "shell.execute_reply": "2024-03-08T14:10:06.499304Z"
        },
        "trusted": true,
        "id": "P-i97j0MaekM"
      },
      "execution_count": null,
      "outputs": []
    },
    {
      "cell_type": "code",
      "source": [
        "def reverse_string(s: str) -> str:\n",
        "  return s[-1::-1]\n",
        "\n",
        "reverse_string(\"stressed\")"
      ],
      "metadata": {
        "execution": {
          "iopub.status.busy": "2024-03-08T14:10:13.802519Z",
          "iopub.execute_input": "2024-03-08T14:10:13.803003Z",
          "iopub.status.idle": "2024-03-08T14:10:13.812146Z",
          "shell.execute_reply.started": "2024-03-08T14:10:13.802971Z",
          "shell.execute_reply": "2024-03-08T14:10:13.810907Z"
        },
        "trusted": true,
        "colab": {
          "base_uri": "https://localhost:8080/",
          "height": 35
        },
        "id": "dleB65gTaekO",
        "outputId": "113da6d5-73e5-488d-f3b1-9ce50eb85fae"
      },
      "execution_count": null,
      "outputs": [
        {
          "output_type": "execute_result",
          "data": {
            "text/plain": [
              "'desserts'"
            ],
            "application/vnd.google.colaboratory.intrinsic+json": {
              "type": "string"
            }
          },
          "metadata": {},
          "execution_count": 2
        }
      ]
    },
    {
      "cell_type": "code",
      "source": [
        "s = 'schooled'\n",
        "s[1:8:2]"
      ],
      "metadata": {
        "execution": {
          "iopub.status.busy": "2024-03-08T14:10:17.834648Z",
          "iopub.execute_input": "2024-03-08T14:10:17.835129Z",
          "iopub.status.idle": "2024-03-08T14:10:17.842342Z",
          "shell.execute_reply.started": "2024-03-08T14:10:17.835093Z",
          "shell.execute_reply": "2024-03-08T14:10:17.841226Z"
        },
        "trusted": true,
        "colab": {
          "base_uri": "https://localhost:8080/",
          "height": 35
        },
        "id": "Vy3F8ZhzaekQ",
        "outputId": "c615b77e-d935-4767-9bf9-3dd64ff2cb6c"
      },
      "execution_count": null,
      "outputs": [
        {
          "output_type": "execute_result",
          "data": {
            "text/plain": [
              "'cold'"
            ],
            "application/vnd.google.colaboratory.intrinsic+json": {
              "type": "string"
            }
          },
          "metadata": {},
          "execution_count": 3
        }
      ]
    },
    {
      "cell_type": "code",
      "source": [
        "s1 = 'shoe'\n",
        "s2 = 'cold'\n",
        "\n",
        "result = \"\"\n",
        "for c1, c2 in zip(s1, s2):\n",
        "  result += (c1 + c2)\n",
        "\n",
        "result"
      ],
      "metadata": {
        "execution": {
          "iopub.status.busy": "2024-03-08T14:10:26.787460Z",
          "iopub.execute_input": "2024-03-08T14:10:26.788239Z",
          "iopub.status.idle": "2024-03-08T14:10:26.800279Z",
          "shell.execute_reply.started": "2024-03-08T14:10:26.788161Z",
          "shell.execute_reply": "2024-03-08T14:10:26.798508Z"
        },
        "trusted": true,
        "colab": {
          "base_uri": "https://localhost:8080/",
          "height": 35
        },
        "id": "n31axMvzaekQ",
        "outputId": "8507b320-f23a-4bef-dfe9-9b622d832fd8"
      },
      "execution_count": null,
      "outputs": [
        {
          "output_type": "execute_result",
          "data": {
            "text/plain": [
              "'schooled'"
            ],
            "application/vnd.google.colaboratory.intrinsic+json": {
              "type": "string"
            }
          },
          "metadata": {},
          "execution_count": 4
        }
      ]
    },
    {
      "cell_type": "code",
      "source": [
        "import re\n",
        "from collections import Counter\n",
        "\n",
        "sentence = \"Now I need a drink, alcoholic of course, after the heavy lectures involving quantum mechanics\"\n",
        "words = re.split(r'[\\s,]+', sentence)\n",
        "num_letter_per_words = {word: dict(Counter(word)) for word in words}\n",
        "\n",
        "num_letter_per_words"
      ],
      "metadata": {
        "execution": {
          "iopub.status.busy": "2024-03-08T14:10:28.458242Z",
          "iopub.execute_input": "2024-03-08T14:10:28.458684Z",
          "iopub.status.idle": "2024-03-08T14:10:28.472355Z",
          "shell.execute_reply.started": "2024-03-08T14:10:28.458630Z",
          "shell.execute_reply": "2024-03-08T14:10:28.470994Z"
        },
        "trusted": true,
        "colab": {
          "base_uri": "https://localhost:8080/"
        },
        "id": "gjQyqAwEaekR",
        "outputId": "9748997c-3932-42d2-b985-49595a00d704"
      },
      "execution_count": null,
      "outputs": [
        {
          "output_type": "execute_result",
          "data": {
            "text/plain": [
              "{'Now': {'N': 1, 'o': 1, 'w': 1},\n",
              " 'I': {'I': 1},\n",
              " 'need': {'n': 1, 'e': 2, 'd': 1},\n",
              " 'a': {'a': 1},\n",
              " 'drink': {'d': 1, 'r': 1, 'i': 1, 'n': 1, 'k': 1},\n",
              " 'alcoholic': {'a': 1, 'l': 2, 'c': 2, 'o': 2, 'h': 1, 'i': 1},\n",
              " 'of': {'o': 1, 'f': 1},\n",
              " 'course': {'c': 1, 'o': 1, 'u': 1, 'r': 1, 's': 1, 'e': 1},\n",
              " 'after': {'a': 1, 'f': 1, 't': 1, 'e': 1, 'r': 1},\n",
              " 'the': {'t': 1, 'h': 1, 'e': 1},\n",
              " 'heavy': {'h': 1, 'e': 1, 'a': 1, 'v': 1, 'y': 1},\n",
              " 'lectures': {'l': 1, 'e': 2, 'c': 1, 't': 1, 'u': 1, 'r': 1, 's': 1},\n",
              " 'involving': {'i': 2, 'n': 2, 'v': 2, 'o': 1, 'l': 1, 'g': 1},\n",
              " 'quantum': {'q': 1, 'u': 2, 'a': 1, 'n': 1, 't': 1, 'm': 1},\n",
              " 'mechanics': {'m': 1, 'e': 1, 'c': 2, 'h': 1, 'a': 1, 'n': 1, 'i': 1, 's': 1}}"
            ]
          },
          "metadata": {},
          "execution_count": 5
        }
      ]
    },
    {
      "cell_type": "code",
      "source": [
        "sen = 'Hi He Lied Because Boron Could Not Oxidize Fluorine. New Nations Might Also Sign Peace Security Clause. Arthur King Can'\n",
        "tokens = re.split(r'[\\s.,]+', sen)\n",
        "\n",
        "positions = [1, 5, 6, 7, 8, 9, 15, 16, 19]\n",
        "dic = {}\n",
        "for i, word in enumerate(tokens):\n",
        "  if i in positions:\n",
        "    dic[word[0]] = i\n",
        "  else:\n",
        "    dic[word[:2]] = i\n",
        "\n",
        "dic"
      ],
      "metadata": {
        "execution": {
          "iopub.status.busy": "2024-03-08T14:10:34.465884Z",
          "iopub.execute_input": "2024-03-08T14:10:34.466268Z",
          "iopub.status.idle": "2024-03-08T14:10:34.477403Z",
          "shell.execute_reply.started": "2024-03-08T14:10:34.466239Z",
          "shell.execute_reply": "2024-03-08T14:10:34.476125Z"
        },
        "trusted": true,
        "colab": {
          "base_uri": "https://localhost:8080/"
        },
        "id": "_y_dUbGVaekR",
        "outputId": "ac62e297-3cba-416f-97ea-a8b24a70225c"
      },
      "execution_count": null,
      "outputs": [
        {
          "output_type": "execute_result",
          "data": {
            "text/plain": [
              "{'Hi': 0,\n",
              " 'H': 1,\n",
              " 'Li': 2,\n",
              " 'Be': 3,\n",
              " 'Bo': 4,\n",
              " 'C': 19,\n",
              " 'N': 9,\n",
              " 'O': 7,\n",
              " 'F': 8,\n",
              " 'Na': 10,\n",
              " 'Mi': 11,\n",
              " 'Al': 12,\n",
              " 'Si': 13,\n",
              " 'Pe': 14,\n",
              " 'S': 15,\n",
              " 'Ar': 17,\n",
              " 'Ki': 18}"
            ]
          },
          "metadata": {},
          "execution_count": 6
        }
      ]
    },
    {
      "cell_type": "code",
      "source": [
        "def generate_n_grams(text, ngram : int=1) -> dict:\n",
        "    temp = zip(*[text[i:] for i in range(ngram)])\n",
        "\n",
        "    return dict(Counter(temp))\n",
        "\n",
        "sentence = 'I am an NLPer'\n",
        "tokens = sentence.split(\" \")\n",
        "\n",
        "bi_grams_words = generate_n_grams(tokens, 2)\n",
        "bi_grams_letter = generate_n_grams(sentence, 2)\n",
        "\n",
        "print(bi_grams_words)\n",
        "print(bi_grams_letter)"
      ],
      "metadata": {
        "execution": {
          "iopub.status.busy": "2024-03-08T14:10:39.322604Z",
          "iopub.execute_input": "2024-03-08T14:10:39.323011Z",
          "iopub.status.idle": "2024-03-08T14:10:39.331392Z",
          "shell.execute_reply.started": "2024-03-08T14:10:39.322983Z",
          "shell.execute_reply": "2024-03-08T14:10:39.330350Z"
        },
        "trusted": true,
        "colab": {
          "base_uri": "https://localhost:8080/"
        },
        "id": "DlzONfSUaekS",
        "outputId": "9fd1dce9-0096-473c-dc65-369d04b532e8"
      },
      "execution_count": null,
      "outputs": [
        {
          "output_type": "stream",
          "name": "stdout",
          "text": [
            "{('I', 'am'): 1, ('am', 'an'): 1, ('an', 'NLPer'): 1}\n",
            "{('I', ' '): 1, (' ', 'a'): 2, ('a', 'm'): 1, ('m', ' '): 1, ('a', 'n'): 1, ('n', ' '): 1, (' ', 'N'): 1, ('N', 'L'): 1, ('L', 'P'): 1, ('P', 'e'): 1, ('e', 'r'): 1}\n"
          ]
        }
      ]
    },
    {
      "cell_type": "code",
      "source": [
        "s1 = 'paraparaparadise'\n",
        "s2 = 'paragraph'\n",
        "\n",
        "x = generate_n_grams(s1, 2)\n",
        "y = generate_n_grams(s2, 2)\n",
        "\n",
        "for w1, w2 in x.keys():\n",
        "    if 'se' == (w1 + w2):\n",
        "        print(f\"se is in {s1}\")\n",
        "\n",
        "for w1, w2 in y.keys():\n",
        "    if 'se' == (w1 + w2):\n",
        "        print(f\"se is in {s2}\")\n",
        "\n",
        "x = list(x.values())\n",
        "y = list(y.values())\n",
        "\n",
        "print(f\"bi-grams letter from the word {s1}: {x}\")\n",
        "print(f\"bi-grams letter from the word {s2}: {y}\")\n",
        "print(f\"Intersection: {np.intersect1d(x, y)}\")\n",
        "print(f\"Union: {list(set(x + y))}\")\n",
        "print(f\"Different: {np.setdiff1d(x, y)}\")"
      ],
      "metadata": {
        "execution": {
          "iopub.status.busy": "2024-03-08T14:13:32.116682Z",
          "iopub.execute_input": "2024-03-08T14:13:32.117096Z",
          "iopub.status.idle": "2024-03-08T14:13:32.164061Z",
          "shell.execute_reply.started": "2024-03-08T14:13:32.117065Z",
          "shell.execute_reply": "2024-03-08T14:13:32.162246Z"
        },
        "trusted": true,
        "colab": {
          "base_uri": "https://localhost:8080/"
        },
        "id": "baVQDYf3aekS",
        "outputId": "f1fc098b-897b-4c37-bc6c-edf3609c44bd"
      },
      "execution_count": null,
      "outputs": [
        {
          "output_type": "stream",
          "name": "stdout",
          "text": [
            "se is in paraparaparadise\n",
            "bi-grams letter from the word paraparaparadise: [3, 3, 3, 2, 1, 1, 1, 1]\n",
            "bi-grams letter from the word paragraph: [1, 1, 2, 1, 1, 1, 1]\n",
            "Intersection: [1 2]\n",
            "Union: [1, 2, 3]\n",
            "Different: [3]\n"
          ]
        }
      ]
    },
    {
      "cell_type": "code",
      "source": [
        "def template_based_sentence_generation(x, y, z):\n",
        "    return f\"{y} is {z} at {x}\"\n",
        "\n",
        "template_based_sentence_generation(x=12, y=\"temperature\", z=22.4)"
      ],
      "metadata": {
        "execution": {
          "iopub.status.busy": "2024-03-08T14:11:06.057555Z",
          "iopub.execute_input": "2024-03-08T14:11:06.057964Z",
          "iopub.status.idle": "2024-03-08T14:11:06.066444Z",
          "shell.execute_reply.started": "2024-03-08T14:11:06.057928Z",
          "shell.execute_reply": "2024-03-08T14:11:06.065092Z"
        },
        "trusted": true,
        "colab": {
          "base_uri": "https://localhost:8080/",
          "height": 35
        },
        "id": "IL8Y5ONDaekT",
        "outputId": "efa8165d-cd6f-4b64-bef5-280e25720817"
      },
      "execution_count": null,
      "outputs": [
        {
          "output_type": "execute_result",
          "data": {
            "text/plain": [
              "'temperature is 22.4 at 12'"
            ],
            "application/vnd.google.colaboratory.intrinsic+json": {
              "type": "string"
            }
          },
          "metadata": {},
          "execution_count": 9
        }
      ]
    },
    {
      "cell_type": "code",
      "source": [
        "def cipher(word: str, assci_num: int=219) -> str:\n",
        "    cipher_code = \"\"\n",
        "    for char in word:\n",
        "        if char == 'c':\n",
        "            cipher_code += (chr(assci_num))\n",
        "        else:\n",
        "            cipher_code += char\n",
        "    return word, cipher_code\n",
        "\n",
        "print(cipher(\"xin chao\"))"
      ],
      "metadata": {
        "execution": {
          "iopub.status.busy": "2024-03-08T14:11:02.249412Z",
          "iopub.execute_input": "2024-03-08T14:11:02.249829Z",
          "iopub.status.idle": "2024-03-08T14:11:02.257213Z",
          "shell.execute_reply.started": "2024-03-08T14:11:02.249798Z",
          "shell.execute_reply": "2024-03-08T14:11:02.255892Z"
        },
        "trusted": true,
        "colab": {
          "base_uri": "https://localhost:8080/"
        },
        "id": "GrpUilsdaekU",
        "outputId": "069698ca-4ca5-492d-d8ec-b340c6ef4ae3"
      },
      "execution_count": null,
      "outputs": [
        {
          "output_type": "stream",
          "name": "stdout",
          "text": [
            "('xin chao', 'xin Ûhao')\n"
          ]
        }
      ]
    },
    {
      "cell_type": "code",
      "source": [
        "import random\n",
        "import re\n",
        "\n",
        "def shuffle_word(word):\n",
        "    if len(word) <= 4:\n",
        "        return word\n",
        "    else:\n",
        "        first_letter = word[0]\n",
        "        last_letter = word[-1]\n",
        "        middle_letters = [word[i] for i in range(1, len(word))]\n",
        "        random.shuffle(middle_letters)\n",
        "\n",
        "        return first_letter + ''.join(middle_letters) + last_letter\n",
        "\n",
        "def typoglycemia(sentence):\n",
        "    words = sentence.split()\n",
        "\n",
        "    return [shuffle_word(word) for word in words]\n",
        "\n",
        "sentence = \"I couldn't believe that I could actually understand what I was \\\n",
        "            reading : the phenomenal power of the human mind .\"\n",
        "output_sentence = typoglycemia(sentence)\n",
        "output_sentence"
      ],
      "metadata": {
        "execution": {
          "iopub.status.busy": "2024-03-08T14:10:54.185371Z",
          "iopub.execute_input": "2024-03-08T14:10:54.186684Z",
          "iopub.status.idle": "2024-03-08T14:10:54.200018Z",
          "shell.execute_reply.started": "2024-03-08T14:10:54.186614Z",
          "shell.execute_reply": "2024-03-08T14:10:54.198444Z"
        },
        "trusted": true,
        "colab": {
          "base_uri": "https://localhost:8080/"
        },
        "id": "jPsCU8q_aekU",
        "outputId": "292061dc-f0fb-4838-fc38-df6f8ca1fed9"
      },
      "execution_count": null,
      "outputs": [
        {
          "output_type": "execute_result",
          "data": {
            "text/plain": [
              "['I',\n",
              " \"culo'ndtt\",\n",
              " 'bleveiee',\n",
              " 'that',\n",
              " 'I',\n",
              " 'cuodld',\n",
              " 'alyltacuy',\n",
              " 'uddnreastnd',\n",
              " 'what',\n",
              " 'I',\n",
              " 'was',\n",
              " 'ridnegag',\n",
              " ':',\n",
              " 'the',\n",
              " 'pnhmeelanol',\n",
              " 'proewr',\n",
              " 'of',\n",
              " 'the',\n",
              " 'hmaunn',\n",
              " 'mind',\n",
              " '.']"
            ]
          },
          "metadata": {},
          "execution_count": 12
        }
      ]
    }
  ]
}